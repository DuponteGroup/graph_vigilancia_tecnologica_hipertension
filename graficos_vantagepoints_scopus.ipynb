{
 "cells": [
  {
   "cell_type": "code",
   "execution_count": 1,
   "id": "42bbb2ef-fdc6-4ea0-a726-dfb8f93ad01d",
   "metadata": {
    "collapsed": true,
    "jupyter": {
     "outputs_hidden": true
    }
   },
   "outputs": [
    {
     "name": "stderr",
     "output_type": "stream",
     "text": [
      "\n",
      "Adjuntando el paquete: ‘dplyr’\n",
      "\n",
      "\n",
      "The following objects are masked from ‘package:stats’:\n",
      "\n",
      "    filter, lag\n",
      "\n",
      "\n",
      "The following objects are masked from ‘package:base’:\n",
      "\n",
      "    intersect, setdiff, setequal, union\n",
      "\n",
      "\n",
      "\n",
      "Adjuntando el paquete: ‘igraph’\n",
      "\n",
      "\n",
      "The following object is masked from ‘package:tidyr’:\n",
      "\n",
      "    crossing\n",
      "\n",
      "\n",
      "The following objects are masked from ‘package:dplyr’:\n",
      "\n",
      "    as_data_frame, groups, union\n",
      "\n",
      "\n",
      "The following objects are masked from ‘package:stats’:\n",
      "\n",
      "    decompose, spectrum\n",
      "\n",
      "\n",
      "The following object is masked from ‘package:base’:\n",
      "\n",
      "    union\n",
      "\n",
      "\n",
      "Cargando paquete requerido: viridisLite\n",
      "\n"
     ]
    }
   ],
   "source": [
    "library(dplyr)\n",
    "library(tidyr)\n",
    "library(igraph)\n",
    "library(igraph)\n",
    "library(readr)\n",
    "library(networkD3)\n",
    "library(stringr)\n",
    "library(ggplot2)\n",
    "library(RColorBrewer)  # Asegúrate de tener este paquete\n",
    "library(viridis)"
   ]
  },
  {
   "cell_type": "code",
   "execution_count": 3,
   "id": "128363b1-27a3-405d-a620-4af62da69b71",
   "metadata": {},
   "outputs": [
    {
     "name": "stderr",
     "output_type": "stream",
     "text": [
      "\u001b[1mRows: \u001b[22m\u001b[34m165\u001b[39m \u001b[1mColumns: \u001b[22m\u001b[34m46\u001b[39m\n",
      "\u001b[36m──\u001b[39m \u001b[1mColumn specification\u001b[22m \u001b[36m────────────────────────────────────────────────────────\u001b[39m\n",
      "\u001b[1mDelimiter:\u001b[22m \",\"\n",
      "\u001b[31mchr\u001b[39m (35): Authors, Author full names, Author(s) ID, Title, Source title, Vol...\n",
      "\u001b[32mdbl\u001b[39m  (4): Year, Page count, Cited by, PubMed ID\n",
      "\u001b[33mlgl\u001b[39m  (7): Editors, Sponsors, Conference name, Conference date, Conference lo...\n",
      "\n",
      "\u001b[36mℹ\u001b[39m Use `spec()` to retrieve the full column specification for this data.\n",
      "\u001b[36mℹ\u001b[39m Specify the column types or set `show_col_types = FALSE` to quiet this message.\n"
     ]
    }
   ],
   "source": [
    "# Cargar el archivo CSV (ajusta la ruta y nombre del archivo)\n",
    "archivo <- \"/home/usuario/duponte//HIPERTENSION/scopus_hipertension.csv\"\n",
    "datos <- read_csv(archivo)"
   ]
  },
  {
   "cell_type": "code",
   "execution_count": 4,
   "id": "cff68f06-3a82-4abb-b8dc-4e6725a028c1",
   "metadata": {},
   "outputs": [],
   "source": [
    "# Definir una función para extraer los países de una afiliación\n",
    "extraer_paises <- function(afiliaciones) {\n",
    "  # Separar las afiliaciones por punto y coma\n",
    "  partes <- str_split(afiliaciones, \";\")[[1]]\n",
    "  \n",
    "  # Extraer el país de cada parte\n",
    "  paises <- str_extract(partes, \"[A-Z][a-z]+(?: [A-Z][a-z]+)*$\")  # Extraer el último nombre que se considera el país\n",
    "  return(na.omit(unique(trimws(paises))))  # Retornar países únicos, eliminando NA y espacios en blanco\n",
    "}\n",
    "\n",
    "# Aplicar la función a todas las afiliaciones\n",
    "paises_extraidos <- sapply(datos$Affiliations, extraer_paises)"
   ]
  },
  {
   "cell_type": "code",
   "execution_count": 5,
   "id": "cf9b4f18-4569-46ac-bb74-7bea38e8c5a5",
   "metadata": {},
   "outputs": [],
   "source": [
    "names(paises_extraidos) <- NULL"
   ]
  },
  {
   "cell_type": "code",
   "execution_count": 6,
   "id": "aba12569-e49f-4fd1-90c5-fd4d6ed4cdff",
   "metadata": {},
   "outputs": [],
   "source": [
    "# Supongamos que `funct_extrac_afiliation` es una función que extrae afiliaciones\n",
    "# y devuelve un vector de caracteres con los países.\n",
    "datos$paises <- paises_extraidos\n",
    "\n",
    "# Convertir la lista de países en un dataframe expandido\n",
    "datos_expandidos <- datos %>%\n",
    "  unnest(paises) %>%  # Expandir la lista de países\n",
    "  mutate(paises = trimws(paises))  # Opcional: eliminar espacios en blanco alrededor de los nombres de países"
   ]
  },
  {
   "cell_type": "code",
   "execution_count": 7,
   "id": "7115742b-46f6-4963-bdda-b46adc8ede1d",
   "metadata": {},
   "outputs": [],
   "source": [
    "#  Convertir en dataframe\n",
    "datos_df <- as.data.frame(datos_expandidos)"
   ]
  },
  {
   "cell_type": "code",
   "execution_count": 13,
   "id": "cfe81d7a-f973-4420-a407-9da608eef395",
   "metadata": {},
   "outputs": [
    {
     "data": {
      "text/html": [
       "<style>\n",
       ".list-inline {list-style: none; margin:0; padding: 0}\n",
       ".list-inline>li {display: inline-block}\n",
       ".list-inline>li:not(:last-child)::after {content: \"\\00b7\"; padding: 0 .5ex}\n",
       "</style>\n",
       "<ol class=list-inline><li>'Authors'</li><li>'Author full names'</li><li>'Author(s) ID'</li><li>'Title'</li><li>'Year'</li><li>'Source title'</li><li>'Volume'</li><li>'Issue'</li><li>'Art. No.'</li><li>'Page start'</li><li>'Page end'</li><li>'Page count'</li><li>'Cited by'</li><li>'DOI'</li><li>'Link'</li><li>'Affiliations'</li><li>'Authors with affiliations'</li><li>'Abstract'</li><li>'Author Keywords'</li><li>'Index Keywords'</li><li>'Molecular Sequence Numbers'</li><li>'Chemicals/CAS'</li><li>'Tradenames'</li><li>'Manufacturers'</li><li>'Funding Details'</li><li>'Funding Texts'</li><li>'References'</li><li>'Correspondence Address'</li><li>'Editors'</li><li>'Publisher'</li><li>'Sponsors'</li><li>'Conference name'</li><li>'Conference date'</li><li>'Conference location'</li><li>'Conference code'</li><li>'ISSN'</li><li>'ISBN'</li><li>'CODEN'</li><li>'PubMed ID'</li><li>'Language of Original Document'</li><li>'Abbreviated Source Title'</li><li>'Document Type'</li><li>'Publication Stage'</li><li>'Open Access'</li><li>'Source'</li><li>'EID'</li><li>'paises'</li></ol>\n"
      ],
      "text/latex": [
       "\\begin{enumerate*}\n",
       "\\item 'Authors'\n",
       "\\item 'Author full names'\n",
       "\\item 'Author(s) ID'\n",
       "\\item 'Title'\n",
       "\\item 'Year'\n",
       "\\item 'Source title'\n",
       "\\item 'Volume'\n",
       "\\item 'Issue'\n",
       "\\item 'Art. No.'\n",
       "\\item 'Page start'\n",
       "\\item 'Page end'\n",
       "\\item 'Page count'\n",
       "\\item 'Cited by'\n",
       "\\item 'DOI'\n",
       "\\item 'Link'\n",
       "\\item 'Affiliations'\n",
       "\\item 'Authors with affiliations'\n",
       "\\item 'Abstract'\n",
       "\\item 'Author Keywords'\n",
       "\\item 'Index Keywords'\n",
       "\\item 'Molecular Sequence Numbers'\n",
       "\\item 'Chemicals/CAS'\n",
       "\\item 'Tradenames'\n",
       "\\item 'Manufacturers'\n",
       "\\item 'Funding Details'\n",
       "\\item 'Funding Texts'\n",
       "\\item 'References'\n",
       "\\item 'Correspondence Address'\n",
       "\\item 'Editors'\n",
       "\\item 'Publisher'\n",
       "\\item 'Sponsors'\n",
       "\\item 'Conference name'\n",
       "\\item 'Conference date'\n",
       "\\item 'Conference location'\n",
       "\\item 'Conference code'\n",
       "\\item 'ISSN'\n",
       "\\item 'ISBN'\n",
       "\\item 'CODEN'\n",
       "\\item 'PubMed ID'\n",
       "\\item 'Language of Original Document'\n",
       "\\item 'Abbreviated Source Title'\n",
       "\\item 'Document Type'\n",
       "\\item 'Publication Stage'\n",
       "\\item 'Open Access'\n",
       "\\item 'Source'\n",
       "\\item 'EID'\n",
       "\\item 'paises'\n",
       "\\end{enumerate*}\n"
      ],
      "text/markdown": [
       "1. 'Authors'\n",
       "2. 'Author full names'\n",
       "3. 'Author(s) ID'\n",
       "4. 'Title'\n",
       "5. 'Year'\n",
       "6. 'Source title'\n",
       "7. 'Volume'\n",
       "8. 'Issue'\n",
       "9. 'Art. No.'\n",
       "10. 'Page start'\n",
       "11. 'Page end'\n",
       "12. 'Page count'\n",
       "13. 'Cited by'\n",
       "14. 'DOI'\n",
       "15. 'Link'\n",
       "16. 'Affiliations'\n",
       "17. 'Authors with affiliations'\n",
       "18. 'Abstract'\n",
       "19. 'Author Keywords'\n",
       "20. 'Index Keywords'\n",
       "21. 'Molecular Sequence Numbers'\n",
       "22. 'Chemicals/CAS'\n",
       "23. 'Tradenames'\n",
       "24. 'Manufacturers'\n",
       "25. 'Funding Details'\n",
       "26. 'Funding Texts'\n",
       "27. 'References'\n",
       "28. 'Correspondence Address'\n",
       "29. 'Editors'\n",
       "30. 'Publisher'\n",
       "31. 'Sponsors'\n",
       "32. 'Conference name'\n",
       "33. 'Conference date'\n",
       "34. 'Conference location'\n",
       "35. 'Conference code'\n",
       "36. 'ISSN'\n",
       "37. 'ISBN'\n",
       "38. 'CODEN'\n",
       "39. 'PubMed ID'\n",
       "40. 'Language of Original Document'\n",
       "41. 'Abbreviated Source Title'\n",
       "42. 'Document Type'\n",
       "43. 'Publication Stage'\n",
       "44. 'Open Access'\n",
       "45. 'Source'\n",
       "46. 'EID'\n",
       "47. 'paises'\n",
       "\n",
       "\n"
      ],
      "text/plain": [
       " [1] \"Authors\"                       \"Author full names\"            \n",
       " [3] \"Author(s) ID\"                  \"Title\"                        \n",
       " [5] \"Year\"                          \"Source title\"                 \n",
       " [7] \"Volume\"                        \"Issue\"                        \n",
       " [9] \"Art. No.\"                      \"Page start\"                   \n",
       "[11] \"Page end\"                      \"Page count\"                   \n",
       "[13] \"Cited by\"                      \"DOI\"                          \n",
       "[15] \"Link\"                          \"Affiliations\"                 \n",
       "[17] \"Authors with affiliations\"     \"Abstract\"                     \n",
       "[19] \"Author Keywords\"               \"Index Keywords\"               \n",
       "[21] \"Molecular Sequence Numbers\"    \"Chemicals/CAS\"                \n",
       "[23] \"Tradenames\"                    \"Manufacturers\"                \n",
       "[25] \"Funding Details\"               \"Funding Texts\"                \n",
       "[27] \"References\"                    \"Correspondence Address\"       \n",
       "[29] \"Editors\"                       \"Publisher\"                    \n",
       "[31] \"Sponsors\"                      \"Conference name\"              \n",
       "[33] \"Conference date\"               \"Conference location\"          \n",
       "[35] \"Conference code\"               \"ISSN\"                         \n",
       "[37] \"ISBN\"                          \"CODEN\"                        \n",
       "[39] \"PubMed ID\"                     \"Language of Original Document\"\n",
       "[41] \"Abbreviated Source Title\"      \"Document Type\"                \n",
       "[43] \"Publication Stage\"             \"Open Access\"                  \n",
       "[45] \"Source\"                        \"EID\"                          \n",
       "[47] \"paises\"                       "
      ]
     },
     "metadata": {},
     "output_type": "display_data"
    }
   ],
   "source": [
    "colnames(datos_df)"
   ]
  },
  {
   "cell_type": "code",
   "execution_count": 15,
   "id": "9a1729ac-2ce8-45da-94da-cd9e4114d2aa",
   "metadata": {},
   "outputs": [],
   "source": [
    "datos_df$paises[datos_df$paises == \"Joslin Diabetes Center\"] <- \"United States\""
   ]
  },
  {
   "cell_type": "code",
   "execution_count": 16,
   "id": "5a3bc01c-517e-48d0-9caf-7b93e6d4bc30",
   "metadata": {},
   "outputs": [
    {
     "name": "stderr",
     "output_type": "stream",
     "text": [
      "\u001b[1m\u001b[22m`summarise()` has grouped output by 'Pais1'. You can override using the\n",
      "`.groups` argument.\n"
     ]
    }
   ],
   "source": [
    "# Calcular las colaboraciones entre países y su frecuencia\n",
    "colaboraciones <- datos_df %>%\n",
    "  filter(!is.na(paises)) %>%      # Filtrar los casos sin países\n",
    "  unnest(paises) %>%              # Separar los países\n",
    "  group_by(Title) %>%             # Agrupar por título de artículo\n",
    "  summarize(\n",
    "    colaboraciones = list({\n",
    "      unique_paises <- unique(paises)\n",
    "      if (length(unique_paises) >= 2) {\n",
    "        combn(unique_paises, 2, simplify = FALSE)\n",
    "      } else {\n",
    "        NULL\n",
    "      }\n",
    "    })\n",
    "  ) %>%\n",
    "  filter(!sapply(colaboraciones, is.null)) %>% # Filtrar combinaciones nulas\n",
    "  unnest(colaboraciones)\n",
    "\n",
    "# Convertir los pares en un dataframe adecuado para un grafo\n",
    "edges <- do.call(rbind, colaboraciones$colaboraciones)\n",
    "colnames(edges) <- c(\"Pais1\", \"Pais2\")\n",
    "\n",
    "# Ordenar alfabéticamente los nombres de los países para evitar duplicados\n",
    "edges_sorted <- data.frame(\n",
    "  Pais1 = pmin(edges[,1], edges[,2]),\n",
    "  Pais2 = pmax(edges[,1], edges[,2])\n",
    ")\n",
    "\n",
    "# Contar las ocurrencias de cada par de países\n",
    "edges_count <- edges_sorted %>%\n",
    "  group_by(Pais1, Pais2) %>%  # Agrupar por las columnas\n",
    "  summarise(Count = n()) %>%  # Contar las ocurrencias\n",
    "  arrange(desc(Count))         # Ordenar por el conteo en orden descendente"
   ]
  },
  {
   "cell_type": "code",
   "execution_count": 20,
   "id": "c8d48552-41e7-4855-abe9-f48cc6142413",
   "metadata": {},
   "outputs": [
    {
     "data": {
      "text/html": [
       "<strong>pdf:</strong> 2"
      ],
      "text/latex": [
       "\\textbf{pdf:} 2"
      ],
      "text/markdown": [
       "**pdf:** 2"
      ],
      "text/plain": [
       "pdf \n",
       "  2 "
      ]
     },
     "metadata": {},
     "output_type": "display_data"
    }
   ],
   "source": [
    "# Crear el grafo\n",
    "grafo <- graph_from_data_frame(d=edges_count[1:20,], directed=FALSE)\n",
    "\n",
    "# Crear una función para simular el efecto 3D en los nodos\n",
    "add_shadow <- function(colors, intensity = 0.8) {\n",
    "  # Hacer que los bordes sean más oscuros para simular un efecto de sombra\n",
    "  darker_colors <- adjustcolor(colors, intensity)\n",
    "  return(darker_colors)\n",
    "}\n",
    "\n",
    "# Asignar colores de los nodos\n",
    "vertex_colors <- \"lightgreen\"\n",
    "vertex_border_colors <- add_shadow(vertex_colors)\n",
    "\n",
    "# Definir el layout para mayor separación\n",
    "layout <- layout_with_fr(grafo)\n",
    "\n",
    "png(\"/home/usuario/duponte/HIPERTENSION/hipertension_grafo_scopus.png\", width = 2000, height = 1500, res = 300)  # Ajusta width, height y res según tus necesidades\n",
    "# Visualizar el grafo con efecto de sombra (simulando 3D)\n",
    "plot(grafo, \n",
    "     layout = layout,                  # Usar el layout definido\n",
    "     vertex.label = V(grafo)$name, \n",
    "     vertex.size = 20,                 # Tamaño de los nodos\n",
    "     vertex.color = vertex_colors,     # Color de los nodos\n",
    "     vertex.frame.color = vertex_border_colors, # Bordes más oscuros para simular 3D\n",
    "     edge.width = 1,\n",
    "     vertex.label.color = \"black\",     # Color de las etiquetas\n",
    "     vertex.label.cex = 0.6,           # Tamaño de las etiquetas\n",
    "     vertex.label.font = 2             # Negrita\n",
    ")\n",
    "dev.off()"
   ]
  },
  {
   "cell_type": "code",
   "execution_count": 25,
   "id": "c4e9bd31-f35f-45c3-a008-b3d70bda16c1",
   "metadata": {},
   "outputs": [
    {
     "name": "stdout",
     "output_type": "stream",
     "text": [
      "\u001b[90m# A tibble: 156 × 3\u001b[39m\n",
      "    Year paises         Production\n",
      "   \u001b[3m\u001b[90m<dbl>\u001b[39m\u001b[23m \u001b[3m\u001b[90m<chr>\u001b[39m\u001b[23m               \u001b[3m\u001b[90m<int>\u001b[39m\u001b[23m\n",
      "\u001b[90m 1\u001b[39m  \u001b[4m2\u001b[24m001 Germany                 1\n",
      "\u001b[90m 2\u001b[39m  \u001b[4m2\u001b[24m001 United States           1\n",
      "\u001b[90m 3\u001b[39m  \u001b[4m2\u001b[24m002 France                  1\n",
      "\u001b[90m 4\u001b[39m  \u001b[4m2\u001b[24m002 Germany                 1\n",
      "\u001b[90m 5\u001b[39m  \u001b[4m2\u001b[24m002 Sweden                  1\n",
      "\u001b[90m 6\u001b[39m  \u001b[4m2\u001b[24m003 Germany                 1\n",
      "\u001b[90m 7\u001b[39m  \u001b[4m2\u001b[24m003 Netherlands             1\n",
      "\u001b[90m 8\u001b[39m  \u001b[4m2\u001b[24m003 United Kingdom          1\n",
      "\u001b[90m 9\u001b[39m  \u001b[4m2\u001b[24m003 United States           4\n",
      "\u001b[90m10\u001b[39m  \u001b[4m2\u001b[24m004 France                  1\n",
      "\u001b[90m# ℹ 146 more rows\u001b[39m\n"
     ]
    }
   ],
   "source": [
    "# Pasamos a caracteres la lista de países\n",
    "datos_df$paises <- paste(datos_df$paises)\n",
    "\n",
    "# Suponiendo que tu dataframe se llama 'df'\n",
    "# Agrupar por 'Year' y 'paises' y contar el número de publicaciones\n",
    "df_summary <- datos_df %>%\n",
    "  group_by(Year, paises) %>%\n",
    "  summarise(Production = n(), .groups = 'drop')  # Contar el número de publicaciones\n",
    "\n",
    "# Ver los datos resumidos\n",
    "print(df_summary)"
   ]
  },
  {
   "cell_type": "code",
   "execution_count": 40,
   "id": "cb11ca12-8529-49b4-ac5c-88f848c929f4",
   "metadata": {},
   "outputs": [
    {
     "data": {
      "text/html": [
       "<strong>pdf:</strong> 2"
      ],
      "text/latex": [
       "\\textbf{pdf:} 2"
      ],
      "text/markdown": [
       "**pdf:** 2"
      ],
      "text/plain": [
       "pdf \n",
       "  2 "
      ]
     },
     "metadata": {},
     "output_type": "display_data"
    }
   ],
   "source": [
    "png(\"/home/usuario/duponte/HIPERTENSION/hipertension_burbuja_scopus.png\", width = 2500, height = 2500, res = 300)  # Ajusta width, height y res según tus necesidades\n",
    "df_summary %>% \n",
    "  filter(Year > 2000) %>% #filter(Production > 1) %>%  \n",
    "  ggplot(aes(x = paises, y = Year, size = Production, color = paises)) +  \n",
    "  geom_point(alpha = 0.7, show.legend = FALSE) +  # Quitar la leyenda de los países\n",
    "  scale_size(range = c(2, 10), name = \"Producción\") + \n",
    "  labs(title = \"\",\n",
    "       x = \"País\",\n",
    "       y = \"Año\") +\n",
    "  theme_minimal() +\n",
    "  theme(\n",
    "    axis.text.x = element_text(angle = 90, hjust = 1, size = 10),  # Aumentar tamaño del texto del eje x\n",
    "    axis.text.y = element_text(size = 14),  # Aumentar tamaño del texto del eje y\n",
    "    axis.title.x = element_text(size = 10),  # Aumentar tamaño del título del eje x\n",
    "    axis.title.y = element_text(size = 10)   # Aumentar tamaño del título del eje y\n",
    "  ) + \n",
    "  scale_color_viridis_d() +  # Usar la paleta viridis para más colores\n",
    "  scale_y_continuous(breaks = seq(floor(min(df_summary$Year)), ceiling(max(df_summary$Year)), by = 1))  # Eje y solo con enteros\n",
    "dev.off()"
   ]
  },
  {
   "cell_type": "code",
   "execution_count": null,
   "id": "271e0888-5c72-4611-8192-161e87035d9f",
   "metadata": {},
   "outputs": [],
   "source": []
  }
 ],
 "metadata": {
  "kernelspec": {
   "display_name": "R",
   "language": "R",
   "name": "ir"
  },
  "language_info": {
   "codemirror_mode": "r",
   "file_extension": ".r",
   "mimetype": "text/x-r-source",
   "name": "R",
   "pygments_lexer": "r",
   "version": "4.4.1"
  }
 },
 "nbformat": 4,
 "nbformat_minor": 5
}
